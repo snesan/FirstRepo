{
 "cells": [
  {
   "cell_type": "markdown",
   "id": "5ddec2d7",
   "metadata": {},
   "source": [
    "### Multi-variate Linear Regression\n",
    "\n",
    "#### What is the new hypothesis?\n",
    "Before starting, let's simply our notation a bit, let's define another variable $x_0=1$ and multiply it with the above equation\n",
    "\n",
    "$$h_{\\theta}(x) = \\theta_{0}x_{0} + \\theta_{1}x_{1} + \\theta_{2}x_{2} ...\\theta_{n}x_{n}$$\n",
    "\n",
    "Did that change anything? No. But this helps a lot in writing the equation concisely as follows\n",
    "\n",
    "\n",
    "$$h_{\\theta}(x) = \\sum_{i=0}^{i=n}\\theta_{i}x_{i} = \\theta^{T}X$$\n",
    "\n",
    "Now, both $\\theta$ and $X$ are vectors, and thus, dot product `np.dot()` can be used. Note that $\\theta$ and $X$ are $n+1$ dimensional vectors, and $i$ ranges from 0-->n.\n",
    "\n",
    "#### How does the Error Function change? \n",
    "\n",
    "No change in the function, earlier one data point was one feature, now one data point has multiple features.\n",
    "Use the same MSE loss function.\n",
    "\n",
    "#### How does the Gradient Descent change for multiple features?\n",
    "\n",
    "Let's figure out what would be value of $\\frac{\\partial J}{\\partial \\theta_{i}}$ for Linear Regression by substiuting the value of $J(\\theta)$\n",
    "\n",
    "$$\\frac{\\partial J}{\\partial \\theta_{i}} = \\frac{\\partial \\frac{\\sum_{i=1}^{i=m} (h_{\\theta}^{i}(x) - y^{i})^2}{2m}}{\\partial \\theta_{i}} $$\n",
    "\n",
    "Take the constant $\\frac{1}{2m}$ out\n",
    "\n",
    "$$\\frac{\\partial J}{\\partial \\theta_{i}} = \\frac{1}{2m} \\frac{\\partial \\sum_{i=1}^{i=m} (h_{\\theta}^{i}(x) - y^{i})^2}{\\partial \\theta_{i}} $$\n",
    "\n",
    "Take the $\\partial$ under the summation\n",
    "\n",
    "$$\\frac{\\partial J}{\\partial \\theta_{i}} = \\frac{1}{2m} \\sum_{i=1}^{i=m} \\frac{\\partial (h_{\\theta}^{i}(x) - y^{i})^2}{\\partial \\theta_{i}} $$\n",
    "\n",
    "Differantiate \n",
    "$$\\frac{\\partial J}{\\partial \\theta_{i}} = \\frac{1}{2m} \\sum_{i=1}^{i=m} 2(h_{\\theta}^{i}(x) - y^{i}) \\frac{\\partial (h_{\\theta}^{i}(x) - y^{i})}{\\partial \\theta_{i}} $$\n",
    "\n",
    "$$\\frac{\\partial J}{\\partial \\theta_{i}} = \\frac{1}{2m} \\sum_{i=1}^{i=m} 2(h_{\\theta}^{i}(x) - y^{i}) \\frac{\\partial ( \\sum_{i=0}^{i=n}\\theta_{i}x_{i} - y^{i})}{\\partial \\theta_{i}} $$\n",
    "\n",
    "\n",
    "$$\\frac{\\partial J}{\\partial \\theta_{i}} = \\frac{1}{2m} \\sum_{i=1}^{i=m} 2(h_{\\theta}^{i}(x) - y^{i})x_{i}$$"
   ]
  },
  {
   "cell_type": "code",
   "execution_count": 3,
   "id": "c02aac1d-2da0-4e08-926f-482fc0fa3e7b",
   "metadata": {},
   "outputs": [],
   "source": [
    "import pandas as pd \n",
    "import numpy as np \n",
    "import matplotlib.pyplot as plt"
   ]
  },
  {
   "cell_type": "code",
   "execution_count": 64,
   "id": "2edba6eb-8a00-41ae-8fa1-5400876b6de0",
   "metadata": {},
   "outputs": [],
   "source": [
    "df = pd.read_csv(\"cars24-car-price-clean.csv\")"
   ]
  },
  {
   "cell_type": "markdown",
   "id": "e15b71ff",
   "metadata": {},
   "source": [
    "#### How to prepare data for for multivariare linear regression?"
   ]
  },
  {
   "cell_type": "code",
   "execution_count": 11,
   "id": "9076e40a",
   "metadata": {},
   "outputs": [
    {
     "data": {
      "text/html": [
       "<div>\n",
       "<style scoped>\n",
       "    .dataframe tbody tr th:only-of-type {\n",
       "        vertical-align: middle;\n",
       "    }\n",
       "\n",
       "    .dataframe tbody tr th {\n",
       "        vertical-align: top;\n",
       "    }\n",
       "\n",
       "    .dataframe thead th {\n",
       "        text-align: right;\n",
       "    }\n",
       "</style>\n",
       "<table border=\"1\" class=\"dataframe\">\n",
       "  <thead>\n",
       "    <tr style=\"text-align: right;\">\n",
       "      <th></th>\n",
       "      <th>selling_price</th>\n",
       "      <th>year</th>\n",
       "      <th>km_driven</th>\n",
       "      <th>mileage</th>\n",
       "      <th>engine</th>\n",
       "      <th>max_power</th>\n",
       "      <th>make</th>\n",
       "      <th>model</th>\n",
       "      <th>transmission_type</th>\n",
       "      <th>seats_coupe</th>\n",
       "      <th>seats_family</th>\n",
       "      <th>seats_large</th>\n",
       "      <th>fuel_cng</th>\n",
       "      <th>fuel_diesel</th>\n",
       "      <th>fuel_electric</th>\n",
       "      <th>fuel_lpg</th>\n",
       "      <th>fuel_petrol</th>\n",
       "      <th>seller_dealer</th>\n",
       "      <th>seller_individual</th>\n",
       "      <th>seller_trustmark dealer</th>\n",
       "    </tr>\n",
       "  </thead>\n",
       "  <tbody>\n",
       "    <tr>\n",
       "      <th>0</th>\n",
       "      <td>1.20</td>\n",
       "      <td>2012.0</td>\n",
       "      <td>120000</td>\n",
       "      <td>19.70</td>\n",
       "      <td>796.0</td>\n",
       "      <td>46.30</td>\n",
       "      <td>Maruti</td>\n",
       "      <td>Alto Std</td>\n",
       "      <td>1</td>\n",
       "      <td>0</td>\n",
       "      <td>1</td>\n",
       "      <td>0</td>\n",
       "      <td>0</td>\n",
       "      <td>0</td>\n",
       "      <td>0</td>\n",
       "      <td>0</td>\n",
       "      <td>1</td>\n",
       "      <td>0</td>\n",
       "      <td>1</td>\n",
       "      <td>0</td>\n",
       "    </tr>\n",
       "    <tr>\n",
       "      <th>1</th>\n",
       "      <td>5.50</td>\n",
       "      <td>2016.0</td>\n",
       "      <td>20000</td>\n",
       "      <td>18.90</td>\n",
       "      <td>1197.0</td>\n",
       "      <td>82.00</td>\n",
       "      <td>Hyundai</td>\n",
       "      <td>Grand i10 Asta</td>\n",
       "      <td>1</td>\n",
       "      <td>0</td>\n",
       "      <td>1</td>\n",
       "      <td>0</td>\n",
       "      <td>0</td>\n",
       "      <td>0</td>\n",
       "      <td>0</td>\n",
       "      <td>0</td>\n",
       "      <td>1</td>\n",
       "      <td>0</td>\n",
       "      <td>1</td>\n",
       "      <td>0</td>\n",
       "    </tr>\n",
       "    <tr>\n",
       "      <th>2</th>\n",
       "      <td>2.15</td>\n",
       "      <td>2010.0</td>\n",
       "      <td>60000</td>\n",
       "      <td>17.00</td>\n",
       "      <td>1197.0</td>\n",
       "      <td>80.00</td>\n",
       "      <td>Hyundai</td>\n",
       "      <td>i20 Asta</td>\n",
       "      <td>1</td>\n",
       "      <td>0</td>\n",
       "      <td>1</td>\n",
       "      <td>0</td>\n",
       "      <td>0</td>\n",
       "      <td>0</td>\n",
       "      <td>0</td>\n",
       "      <td>0</td>\n",
       "      <td>1</td>\n",
       "      <td>0</td>\n",
       "      <td>1</td>\n",
       "      <td>0</td>\n",
       "    </tr>\n",
       "    <tr>\n",
       "      <th>3</th>\n",
       "      <td>2.26</td>\n",
       "      <td>2012.0</td>\n",
       "      <td>37000</td>\n",
       "      <td>20.92</td>\n",
       "      <td>998.0</td>\n",
       "      <td>67.10</td>\n",
       "      <td>Maruti</td>\n",
       "      <td>Alto K10 2010-2014 VXI</td>\n",
       "      <td>1</td>\n",
       "      <td>0</td>\n",
       "      <td>1</td>\n",
       "      <td>0</td>\n",
       "      <td>0</td>\n",
       "      <td>0</td>\n",
       "      <td>0</td>\n",
       "      <td>0</td>\n",
       "      <td>1</td>\n",
       "      <td>0</td>\n",
       "      <td>1</td>\n",
       "      <td>0</td>\n",
       "    </tr>\n",
       "    <tr>\n",
       "      <th>4</th>\n",
       "      <td>5.70</td>\n",
       "      <td>2015.0</td>\n",
       "      <td>30000</td>\n",
       "      <td>22.77</td>\n",
       "      <td>1498.0</td>\n",
       "      <td>98.59</td>\n",
       "      <td>Ford</td>\n",
       "      <td>Ecosport 2015-2021 1.5 TDCi Titanium BSIV</td>\n",
       "      <td>1</td>\n",
       "      <td>0</td>\n",
       "      <td>1</td>\n",
       "      <td>0</td>\n",
       "      <td>0</td>\n",
       "      <td>1</td>\n",
       "      <td>0</td>\n",
       "      <td>0</td>\n",
       "      <td>0</td>\n",
       "      <td>1</td>\n",
       "      <td>0</td>\n",
       "      <td>0</td>\n",
       "    </tr>\n",
       "  </tbody>\n",
       "</table>\n",
       "</div>"
      ],
      "text/plain": [
       "   selling_price    year  km_driven  mileage  engine  max_power     make  \\\n",
       "0           1.20  2012.0     120000    19.70   796.0      46.30   Maruti   \n",
       "1           5.50  2016.0      20000    18.90  1197.0      82.00  Hyundai   \n",
       "2           2.15  2010.0      60000    17.00  1197.0      80.00  Hyundai   \n",
       "3           2.26  2012.0      37000    20.92   998.0      67.10   Maruti   \n",
       "4           5.70  2015.0      30000    22.77  1498.0      98.59     Ford   \n",
       "\n",
       "                                       model  transmission_type  seats_coupe  \\\n",
       "0                                   Alto Std                  1            0   \n",
       "1                             Grand i10 Asta                  1            0   \n",
       "2                                   i20 Asta                  1            0   \n",
       "3                     Alto K10 2010-2014 VXI                  1            0   \n",
       "4  Ecosport 2015-2021 1.5 TDCi Titanium BSIV                  1            0   \n",
       "\n",
       "   seats_family  seats_large  fuel_cng  fuel_diesel  fuel_electric  fuel_lpg  \\\n",
       "0             1            0         0            0              0         0   \n",
       "1             1            0         0            0              0         0   \n",
       "2             1            0         0            0              0         0   \n",
       "3             1            0         0            0              0         0   \n",
       "4             1            0         0            1              0         0   \n",
       "\n",
       "   fuel_petrol  seller_dealer  seller_individual  seller_trustmark dealer  \n",
       "0            1              0                  1                        0  \n",
       "1            1              0                  1                        0  \n",
       "2            1              0                  1                        0  \n",
       "3            1              0                  1                        0  \n",
       "4            0              1                  0                        0  "
      ]
     },
     "execution_count": 11,
     "metadata": {},
     "output_type": "execute_result"
    }
   ],
   "source": [
    "df.head()"
   ]
  },
  {
   "cell_type": "code",
   "execution_count": 12,
   "id": "31284472-4a76-44f0-ad54-5040eb0e8133",
   "metadata": {},
   "outputs": [
    {
     "data": {
      "text/plain": [
       "Maruti           5650\n",
       "Hyundai          3562\n",
       "Honda            1779\n",
       "Mahindra         1276\n",
       "Toyota           1189\n",
       "Tata              971\n",
       "Ford              900\n",
       "Volkswagen        761\n",
       "Renault           636\n",
       "Mercedes-Benz     485\n",
       "BMW               483\n",
       "Skoda             422\n",
       "Chevrolet         406\n",
       "Audi              324\n",
       "Nissan            289\n",
       "Datsun            170\n",
       "Fiat              113\n",
       "Jaguar             80\n",
       "Land               51\n",
       "Volvo              42\n",
       "Jeep               41\n",
       "Mitsubishi         39\n",
       "Kia                33\n",
       "Porsche            25\n",
       "Mini               23\n",
       "MG                 19\n",
       "Isuzu              10\n",
       "Lexus              10\n",
       "Force               5\n",
       "Bentley             4\n",
       "Ambassador          4\n",
       "OpelCorsa           3\n",
       "Maserati            2\n",
       "Premier             2\n",
       "Daewoo              2\n",
       "ISUZU               2\n",
       "DC                  2\n",
       "Opel                1\n",
       "Rolls-Royce         1\n",
       "Mercedes-AMG        1\n",
       "Lamborghini         1\n",
       "Ferrari             1\n",
       "Name: make, dtype: int64"
      ]
     },
     "execution_count": 12,
     "metadata": {},
     "output_type": "execute_result"
    }
   ],
   "source": [
    "df.make.value_counts()"
   ]
  },
  {
   "cell_type": "code",
   "execution_count": 65,
   "id": "e8d7167d",
   "metadata": {},
   "outputs": [],
   "source": [
    "df = df.drop([\"make\", \"model\"], axis=1)"
   ]
  },
  {
   "cell_type": "markdown",
   "id": "e05c1e61",
   "metadata": {},
   "source": [
    "#### Get X and Y"
   ]
  },
  {
   "cell_type": "code",
   "execution_count": 14,
   "id": "aaea4410",
   "metadata": {},
   "outputs": [],
   "source": [
    "X = df[df.columns.drop('selling_price')]\n",
    "Y = df[\"selling_price\"]"
   ]
  },
  {
   "cell_type": "markdown",
   "id": "dbc746db",
   "metadata": {},
   "source": [
    "#### Convert X and Y from dataframes to numpy array"
   ]
  },
  {
   "cell_type": "code",
   "execution_count": 15,
   "id": "674125a0",
   "metadata": {},
   "outputs": [],
   "source": [
    "X = X.to_numpy()\n",
    "Y = Y.to_numpy()"
   ]
  },
  {
   "cell_type": "markdown",
   "id": "1dd7c594",
   "metadata": {},
   "source": [
    "#### Why should we normalise data?\n",
    "\n",
    "Each feature must have 0 mean, unit variance\n",
    "\n",
    "TODO: Add more explaination here"
   ]
  },
  {
   "cell_type": "code",
   "execution_count": 16,
   "id": "343a2787",
   "metadata": {},
   "outputs": [],
   "source": [
    "import numpy as np\n",
    "u = np.mean(X,axis=0)\n",
    "std = np.std(X,axis=0)"
   ]
  },
  {
   "cell_type": "markdown",
   "id": "ae07c0c6",
   "metadata": {},
   "source": [
    "#### Normalise the Data"
   ]
  },
  {
   "cell_type": "code",
   "execution_count": 17,
   "id": "0607493e",
   "metadata": {},
   "outputs": [],
   "source": [
    "X = (X-u)/std"
   ]
  },
  {
   "cell_type": "code",
   "execution_count": 18,
   "id": "fefc1f71",
   "metadata": {},
   "outputs": [
    {
     "data": {
      "text/html": [
       "<div>\n",
       "<style scoped>\n",
       "    .dataframe tbody tr th:only-of-type {\n",
       "        vertical-align: middle;\n",
       "    }\n",
       "\n",
       "    .dataframe tbody tr th {\n",
       "        vertical-align: top;\n",
       "    }\n",
       "\n",
       "    .dataframe thead th {\n",
       "        text-align: right;\n",
       "    }\n",
       "</style>\n",
       "<table border=\"1\" class=\"dataframe\">\n",
       "  <thead>\n",
       "    <tr style=\"text-align: right;\">\n",
       "      <th></th>\n",
       "      <th>0</th>\n",
       "      <th>1</th>\n",
       "      <th>2</th>\n",
       "      <th>3</th>\n",
       "      <th>4</th>\n",
       "      <th>5</th>\n",
       "      <th>6</th>\n",
       "      <th>7</th>\n",
       "      <th>8</th>\n",
       "      <th>9</th>\n",
       "      <th>10</th>\n",
       "      <th>11</th>\n",
       "      <th>12</th>\n",
       "      <th>13</th>\n",
       "      <th>14</th>\n",
       "      <th>15</th>\n",
       "      <th>16</th>\n",
       "    </tr>\n",
       "  </thead>\n",
       "  <tbody>\n",
       "    <tr>\n",
       "      <th>0</th>\n",
       "      <td>-0.801317</td>\n",
       "      <td>1.195828</td>\n",
       "      <td>0.045745</td>\n",
       "      <td>-1.310754</td>\n",
       "      <td>-1.157780</td>\n",
       "      <td>0.495818</td>\n",
       "      <td>-0.110946</td>\n",
       "      <td>0.20159</td>\n",
       "      <td>-0.166238</td>\n",
       "      <td>-0.127286</td>\n",
       "      <td>-0.985275</td>\n",
       "      <td>-0.020095</td>\n",
       "      <td>-0.056917</td>\n",
       "      <td>1.024622</td>\n",
       "      <td>-1.224101</td>\n",
       "      <td>1.248892</td>\n",
       "      <td>-0.098382</td>\n",
       "    </tr>\n",
       "    <tr>\n",
       "      <th>1</th>\n",
       "      <td>0.450030</td>\n",
       "      <td>-0.737872</td>\n",
       "      <td>-0.140402</td>\n",
       "      <td>-0.537456</td>\n",
       "      <td>-0.360203</td>\n",
       "      <td>0.495818</td>\n",
       "      <td>-0.110946</td>\n",
       "      <td>0.20159</td>\n",
       "      <td>-0.166238</td>\n",
       "      <td>-0.127286</td>\n",
       "      <td>-0.985275</td>\n",
       "      <td>-0.020095</td>\n",
       "      <td>-0.056917</td>\n",
       "      <td>1.024622</td>\n",
       "      <td>-1.224101</td>\n",
       "      <td>1.248892</td>\n",
       "      <td>-0.098382</td>\n",
       "    </tr>\n",
       "    <tr>\n",
       "      <th>2</th>\n",
       "      <td>-1.426990</td>\n",
       "      <td>0.035608</td>\n",
       "      <td>-0.582501</td>\n",
       "      <td>-0.537456</td>\n",
       "      <td>-0.404885</td>\n",
       "      <td>0.495818</td>\n",
       "      <td>-0.110946</td>\n",
       "      <td>0.20159</td>\n",
       "      <td>-0.166238</td>\n",
       "      <td>-0.127286</td>\n",
       "      <td>-0.985275</td>\n",
       "      <td>-0.020095</td>\n",
       "      <td>-0.056917</td>\n",
       "      <td>1.024622</td>\n",
       "      <td>-1.224101</td>\n",
       "      <td>1.248892</td>\n",
       "      <td>-0.098382</td>\n",
       "    </tr>\n",
       "    <tr>\n",
       "      <th>3</th>\n",
       "      <td>-0.801317</td>\n",
       "      <td>-0.409143</td>\n",
       "      <td>0.329620</td>\n",
       "      <td>-0.921213</td>\n",
       "      <td>-0.693085</td>\n",
       "      <td>0.495818</td>\n",
       "      <td>-0.110946</td>\n",
       "      <td>0.20159</td>\n",
       "      <td>-0.166238</td>\n",
       "      <td>-0.127286</td>\n",
       "      <td>-0.985275</td>\n",
       "      <td>-0.020095</td>\n",
       "      <td>-0.056917</td>\n",
       "      <td>1.024622</td>\n",
       "      <td>-1.224101</td>\n",
       "      <td>1.248892</td>\n",
       "      <td>-0.098382</td>\n",
       "    </tr>\n",
       "    <tr>\n",
       "      <th>4</th>\n",
       "      <td>0.137194</td>\n",
       "      <td>-0.544502</td>\n",
       "      <td>0.760085</td>\n",
       "      <td>0.042999</td>\n",
       "      <td>0.010435</td>\n",
       "      <td>0.495818</td>\n",
       "      <td>-0.110946</td>\n",
       "      <td>0.20159</td>\n",
       "      <td>-0.166238</td>\n",
       "      <td>-0.127286</td>\n",
       "      <td>1.014945</td>\n",
       "      <td>-0.020095</td>\n",
       "      <td>-0.056917</td>\n",
       "      <td>-0.975970</td>\n",
       "      <td>0.816926</td>\n",
       "      <td>-0.800710</td>\n",
       "      <td>-0.098382</td>\n",
       "    </tr>\n",
       "  </tbody>\n",
       "</table>\n",
       "</div>"
      ],
      "text/plain": [
       "         0         1         2         3         4         5         6   \\\n",
       "0 -0.801317  1.195828  0.045745 -1.310754 -1.157780  0.495818 -0.110946   \n",
       "1  0.450030 -0.737872 -0.140402 -0.537456 -0.360203  0.495818 -0.110946   \n",
       "2 -1.426990  0.035608 -0.582501 -0.537456 -0.404885  0.495818 -0.110946   \n",
       "3 -0.801317 -0.409143  0.329620 -0.921213 -0.693085  0.495818 -0.110946   \n",
       "4  0.137194 -0.544502  0.760085  0.042999  0.010435  0.495818 -0.110946   \n",
       "\n",
       "        7         8         9         10        11        12        13  \\\n",
       "0  0.20159 -0.166238 -0.127286 -0.985275 -0.020095 -0.056917  1.024622   \n",
       "1  0.20159 -0.166238 -0.127286 -0.985275 -0.020095 -0.056917  1.024622   \n",
       "2  0.20159 -0.166238 -0.127286 -0.985275 -0.020095 -0.056917  1.024622   \n",
       "3  0.20159 -0.166238 -0.127286 -0.985275 -0.020095 -0.056917  1.024622   \n",
       "4  0.20159 -0.166238 -0.127286  1.014945 -0.020095 -0.056917 -0.975970   \n",
       "\n",
       "         14        15        16  \n",
       "0 -1.224101  1.248892 -0.098382  \n",
       "1 -1.224101  1.248892 -0.098382  \n",
       "2 -1.224101  1.248892 -0.098382  \n",
       "3 -1.224101  1.248892 -0.098382  \n",
       "4  0.816926 -0.800710 -0.098382  "
      ]
     },
     "execution_count": 18,
     "metadata": {},
     "output_type": "execute_result"
    }
   ],
   "source": [
    "pd.DataFrame(X[:5,:]).head()"
   ]
  },
  {
   "cell_type": "markdown",
   "id": "8457648c",
   "metadata": {},
   "source": [
    "#### Add x_0 term to the data"
   ]
  },
  {
   "cell_type": "code",
   "execution_count": 19,
   "id": "a717ba6e",
   "metadata": {},
   "outputs": [],
   "source": [
    "ones = np.ones((X.shape[0],1))\n",
    "X = np.hstack((ones,X))"
   ]
  },
  {
   "cell_type": "markdown",
   "id": "0b2acf48",
   "metadata": {},
   "source": [
    "#### Check shape of X and Y"
   ]
  },
  {
   "cell_type": "code",
   "execution_count": 20,
   "id": "07681692",
   "metadata": {},
   "outputs": [
    {
     "name": "stdout",
     "output_type": "stream",
     "text": [
      "(19820, 18) (19820,)\n"
     ]
    }
   ],
   "source": [
    "print(X.shape, Y.shape)"
   ]
  },
  {
   "cell_type": "markdown",
   "id": "5eec3d01",
   "metadata": {},
   "source": [
    "### Multivariate Linear Regression implementation using \"for\" loop"
   ]
  },
  {
   "cell_type": "code",
   "execution_count": 21,
   "id": "842a06b1",
   "metadata": {},
   "outputs": [],
   "source": [
    "def hypothesis(x,theta):\n",
    "    y_ = 0.0\n",
    "    n = x.shape[0]\n",
    "    for i in range(n):\n",
    "        y_  += (theta[i]*x[i])\n",
    "    return y_\n",
    "\n",
    "def error(X,y,theta):\n",
    "    e = 0.0\n",
    "    m = X.shape[0]\n",
    "    \n",
    "    for i in range(m):\n",
    "        y_ = hypothesis(X[i],theta)\n",
    "        e += (y[i] - y_)**2\n",
    "        \n",
    "    return e/m\n",
    "\n",
    "def gradient(X,y,theta):\n",
    "    m,n = X.shape\n",
    "    \n",
    "    grad = np.zeros((n,))\n",
    "    \n",
    "    # for all values of j\n",
    "    for j in range(n):\n",
    "        #sum over all examples\n",
    "        for i in range(m):\n",
    "            y_ = hypothesis(X[i],theta)\n",
    "            grad[j] += (y_ - y[i])*X[i][j]\n",
    "    # Out of the loops\n",
    "    return grad/m\n",
    "\n",
    "def gradient_descent(X,y,learning_rate=0.1,max_epochs=100):\n",
    "    m,n = X.shape\n",
    "    theta = np.zeros((n,))\n",
    "    error_list = []\n",
    "    \n",
    "    for i in range(max_epochs):\n",
    "        e = error(X,y,theta)\n",
    "        error_list.append(e)\n",
    "        \n",
    "        # Gradient Descent\n",
    "        grad = gradient(X,y,theta)\n",
    "        for j in range(n):\n",
    "            theta[j] = theta[j] - learning_rate*grad[j]\n",
    "        \n",
    "    return theta,error_list"
   ]
  },
  {
   "cell_type": "code",
   "execution_count": 22,
   "id": "8043e7b7",
   "metadata": {},
   "outputs": [
    {
     "name": "stdout",
     "output_type": "stream",
     "text": [
      "Time taken is  337.33369493484497\n"
     ]
    }
   ],
   "source": [
    "import time\n",
    "start = time.time()\n",
    "theta, error_list = gradient_descent(X,Y)\n",
    "end = time.time()\n",
    "print(\"Time taken is \", end-start)"
   ]
  },
  {
   "cell_type": "markdown",
   "id": "0e70443c",
   "metadata": {},
   "source": [
    "It took 521 seconds to run this."
   ]
  },
  {
   "cell_type": "markdown",
   "id": "71b3b99f",
   "metadata": {},
   "source": [
    "#### What are the learnt parameters?"
   ]
  },
  {
   "cell_type": "code",
   "execution_count": 23,
   "id": "9905a775",
   "metadata": {},
   "outputs": [
    {
     "name": "stdout",
     "output_type": "stream",
     "text": [
      "[ 7.38822664  1.91460061 -0.49032084  0.35908638  1.48882489  4.73153424\n",
      " -1.03962742  0.85587115 -0.26400821 -0.26370026  0.06433057  0.05143155\n",
      " -0.05861397  0.20742254 -0.08874854  0.0383181  -0.02085462 -0.08824967]\n"
     ]
    }
   ],
   "source": [
    "print(theta)"
   ]
  },
  {
   "cell_type": "markdown",
   "id": "ace9d5fb",
   "metadata": {},
   "source": [
    "#### How does the error change during training?"
   ]
  },
  {
   "cell_type": "code",
   "execution_count": 24,
   "id": "06d4b6e5",
   "metadata": {},
   "outputs": [
    {
     "data": {
      "image/png": "[encoded data removed]",
      "text/plain": [
       "<Figure size 432x288 with 1 Axes>"
      ]
     },
     "metadata": {
      "needs_background": "light"
     },
     "output_type": "display_data"
    }
   ],
   "source": [
    "fig = plt.figure()\n",
    "plt.plot(error_list)\n",
    "plt.show()"
   ]
  },
  {
   "cell_type": "markdown",
   "id": "e8a6d022",
   "metadata": {},
   "source": [
    "#### What are predictions for the training dataset?"
   ]
  },
  {
   "cell_type": "code",
   "execution_count": 25,
   "id": "56c75af8",
   "metadata": {},
   "outputs": [],
   "source": [
    "Y_hat = []\n",
    "m = X.shape[0]\n",
    "for i in range(m):\n",
    "    pred = hypothesis(X[i],theta)\n",
    "    Y_hat.append(pred)\n",
    "Y_hat = np.array(Y_hat)"
   ]
  },
  {
   "cell_type": "markdown",
   "id": "ad56ff7e",
   "metadata": {},
   "source": [
    "#### How does the model perform on the training set?"
   ]
  },
  {
   "cell_type": "code",
   "execution_count": 26,
   "id": "cf77f3e4",
   "metadata": {},
   "outputs": [],
   "source": [
    "def r2_score(y,y_):\n",
    "    num = np.sum((y-y_)**2)\n",
    "    denom = np.sum((y- y.mean())**2)\n",
    "    score = (1- num/denom)\n",
    "    return score"
   ]
  },
  {
   "cell_type": "code",
   "execution_count": 27,
   "id": "2552a633",
   "metadata": {},
   "outputs": [
    {
     "data": {
      "text/plain": [
       "0.6134216843865016"
      ]
     },
     "execution_count": 27,
     "metadata": {},
     "output_type": "execute_result"
    }
   ],
   "source": [
    "r2_score(Y,Y_hat)"
   ]
  },
  {
   "cell_type": "markdown",
   "id": "db8f19c5",
   "metadata": {},
   "source": [
    "### How to optmize the code using vectorizaton?\n",
    "\n",
    "An Efficent Implemenation for Linear Regression using Vectorization\n",
    "\n",
    "- Avoid loops in the implemenation, except gradient descent main loop\n",
    "- Use numpy functions like `np.sum()`, `np.dot()` which are quite fast and already optimised"
   ]
  },
  {
   "cell_type": "code",
   "execution_count": 28,
   "id": "42333a26",
   "metadata": {},
   "outputs": [],
   "source": [
    "def hypothesis(X,theta):\n",
    "    return np.dot(X,theta)\n",
    "\n",
    "def error(X,y,theta):\n",
    "    e = 0.0\n",
    "    m = X.shape[0]\n",
    "    y_ = hypothesis(X,theta)\n",
    "    e = np.sum((y-y_)**2)\n",
    "    return e/m\n",
    "    \n",
    "def gradient(X,y,theta):\n",
    "    \n",
    "    y_ = hypothesis(X,theta)\n",
    "    grad = np.dot(X.T,(y_ - y))\n",
    "    m = X.shape[0]\n",
    "    return grad/m\n",
    "\n",
    "def gradient_descent(X,y,learning_rate = 0.1,max_iters=500):\n",
    "    \n",
    "    n = X.shape[1]\n",
    "    theta = np.zeros((n,))\n",
    "    error_list = []\n",
    "    \n",
    "    for i in range(max_iters):\n",
    "        e = error(X,y,theta)\n",
    "        error_list.append(e)\n",
    "        \n",
    "        #Gradient descent\n",
    "        grad = gradient(X,y,theta)\n",
    "        theta = theta - learning_rate*grad\n",
    "        \n",
    "    return theta, error_list"
   ]
  },
  {
   "cell_type": "code",
   "execution_count": 29,
   "id": "a354dfca",
   "metadata": {},
   "outputs": [
    {
     "name": "stdout",
     "output_type": "stream",
     "text": [
      "Time taken by Vectorized Code 0.1750023365020752\n"
     ]
    }
   ],
   "source": [
    "start = time.time()\n",
    "theta,error_list = gradient_descent(X,Y)\n",
    "end = time.time()\n",
    "print(\"Time taken by Vectorized Code\",end-start)"
   ]
  },
  {
   "cell_type": "code",
   "execution_count": 30,
   "id": "3c0e24b7",
   "metadata": {},
   "outputs": [
    {
     "name": "stdout",
     "output_type": "stream",
     "text": [
      "[ 7.38842289  1.88476748 -0.47374531  0.32749344  1.15203852  5.07149364\n",
      " -0.96643086  0.82449862 -0.28208162 -0.22080249  0.06916548  0.07993341\n",
      " -0.05119083  0.20479193 -0.11846699  0.03336637 -0.01609964 -0.08716032]\n"
     ]
    }
   ],
   "source": [
    "print(theta)"
   ]
  },
  {
   "cell_type": "code",
   "execution_count": 31,
   "id": "6e383232",
   "metadata": {},
   "outputs": [
    {
     "data": {
      "image/png": "[encoded data removed]",
      "text/plain": [
       "<Figure size 432x288 with 1 Axes>"
      ]
     },
     "metadata": {
      "needs_background": "light"
     },
     "output_type": "display_data"
    }
   ],
   "source": [
    "fig = plt.figure()\n",
    "plt.plot(error_list)\n",
    "plt.show()"
   ]
  },
  {
   "cell_type": "markdown",
   "id": "e41cf6d6",
   "metadata": {},
   "source": [
    "#### How does the model perform ?"
   ]
  },
  {
   "cell_type": "code",
   "execution_count": 32,
   "id": "61bd916c",
   "metadata": {},
   "outputs": [
    {
     "data": {
      "text/plain": [
       "0.613825873539432"
      ]
     },
     "execution_count": 32,
     "metadata": {},
     "output_type": "execute_result"
    }
   ],
   "source": [
    "Y_hat = hypothesis(X,theta)\n",
    "r2_score(Y,Y_hat)"
   ]
  },
  {
   "cell_type": "markdown",
   "id": "4d1bb432",
   "metadata": {},
   "source": [
    "#### Implementation using sci-kit learn"
   ]
  },
  {
   "cell_type": "code",
   "execution_count": 66,
   "id": "f6c83627",
   "metadata": {},
   "outputs": [],
   "source": [
    "from sklearn.linear_model import LinearRegression\n",
    "model = LinearRegression()\n",
    "\n",
    "X = df[df.columns.drop('selling_price')]\n",
    "Y = df[\"selling_price\"] \n",
    "\n"
   ]
  },
  {
   "cell_type": "code",
   "execution_count": 55,
   "id": "700ddd75-40a8-4c59-b2f1-97bc7ec0c392",
   "metadata": {},
   "outputs": [
    {
     "data": {
      "text/plain": [
       "Index(['selling_price', 'year', 'km_driven', 'mileage', 'engine', 'max_power',\n",
       "       'transmission_type', 'seats_coupe', 'seats_family', 'seats_large',\n",
       "       'fuel_cng', 'fuel_diesel', 'fuel_electric', 'fuel_lpg', 'fuel_petrol',\n",
       "       'seller_dealer', 'seller_individual', 'seller_trustmark dealer'],\n",
       "      dtype='object')"
      ]
     },
     "execution_count": 55,
     "metadata": {},
     "output_type": "execute_result"
    }
   ],
   "source": [
    "df.columns"
   ]
  },
  {
   "cell_type": "code",
   "execution_count": 67,
   "id": "82b19e3a-dc31-46de-b420-5cb24471d138",
   "metadata": {},
   "outputs": [
    {
     "name": "stderr",
     "output_type": "stream",
     "text": [
      "<ipython-input-67-2724d1b937f6>:5: SettingWithCopyWarning: \n",
      "A value is trying to be set on a copy of a slice from a DataFrame.\n",
      "Try using .loc[row_indexer,col_indexer] = value instead\n",
      "\n",
      "See the caveats in the documentation: https://pandas.pydata.org/pandas-docs/stable/user_guide/indexing.html#returning-a-view-versus-a-copy\n",
      "  X[cols] = sc.fit_transform(X[cols])\n",
      "C:\\Users\\sci\\anaconda3\\lib\\site-packages\\pandas\\core\\indexing.py:1738: SettingWithCopyWarning: \n",
      "A value is trying to be set on a copy of a slice from a DataFrame.\n",
      "Try using .loc[row_indexer,col_indexer] = value instead\n",
      "\n",
      "See the caveats in the documentation: https://pandas.pydata.org/pandas-docs/stable/user_guide/indexing.html#returning-a-view-versus-a-copy\n",
      "  self._setitem_single_column(loc, value[:, i].tolist(), pi)\n"
     ]
    }
   ],
   "source": [
    "# Lets scale the data, standardization \n",
    "from sklearn.preprocessing import StandardScaler\n",
    "sc = StandardScaler()\n",
    "cols = X.columns\n",
    "X[cols] = sc.fit_transform(X[cols])"
   ]
  },
  {
   "cell_type": "code",
   "execution_count": 68,
   "id": "fc34554d-dc73-48e6-a5b6-6c1adcd8a733",
   "metadata": {},
   "outputs": [
    {
     "data": {
      "text/html": [
       "<div>\n",
       "<style scoped>\n",
       "    .dataframe tbody tr th:only-of-type {\n",
       "        vertical-align: middle;\n",
       "    }\n",
       "\n",
       "    .dataframe tbody tr th {\n",
       "        vertical-align: top;\n",
       "    }\n",
       "\n",
       "    .dataframe thead th {\n",
       "        text-align: right;\n",
       "    }\n",
       "</style>\n",
       "<table border=\"1\" class=\"dataframe\">\n",
       "  <thead>\n",
       "    <tr style=\"text-align: right;\">\n",
       "      <th></th>\n",
       "      <th>year</th>\n",
       "      <th>km_driven</th>\n",
       "      <th>mileage</th>\n",
       "      <th>engine</th>\n",
       "      <th>max_power</th>\n",
       "      <th>transmission_type</th>\n",
       "      <th>seats_coupe</th>\n",
       "      <th>seats_family</th>\n",
       "      <th>seats_large</th>\n",
       "      <th>fuel_cng</th>\n",
       "      <th>fuel_diesel</th>\n",
       "      <th>fuel_electric</th>\n",
       "      <th>fuel_lpg</th>\n",
       "      <th>fuel_petrol</th>\n",
       "      <th>seller_dealer</th>\n",
       "      <th>seller_individual</th>\n",
       "      <th>seller_trustmark dealer</th>\n",
       "    </tr>\n",
       "  </thead>\n",
       "  <tbody>\n",
       "    <tr>\n",
       "      <th>0</th>\n",
       "      <td>-0.801317</td>\n",
       "      <td>1.195828</td>\n",
       "      <td>0.045745</td>\n",
       "      <td>-1.310754</td>\n",
       "      <td>-1.157780</td>\n",
       "      <td>0.495818</td>\n",
       "      <td>-0.110946</td>\n",
       "      <td>0.20159</td>\n",
       "      <td>-0.166238</td>\n",
       "      <td>-0.127286</td>\n",
       "      <td>-0.985275</td>\n",
       "      <td>-0.020095</td>\n",
       "      <td>-0.056917</td>\n",
       "      <td>1.024622</td>\n",
       "      <td>-1.224101</td>\n",
       "      <td>1.248892</td>\n",
       "      <td>-0.098382</td>\n",
       "    </tr>\n",
       "    <tr>\n",
       "      <th>1</th>\n",
       "      <td>0.450030</td>\n",
       "      <td>-0.737872</td>\n",
       "      <td>-0.140402</td>\n",
       "      <td>-0.537456</td>\n",
       "      <td>-0.360203</td>\n",
       "      <td>0.495818</td>\n",
       "      <td>-0.110946</td>\n",
       "      <td>0.20159</td>\n",
       "      <td>-0.166238</td>\n",
       "      <td>-0.127286</td>\n",
       "      <td>-0.985275</td>\n",
       "      <td>-0.020095</td>\n",
       "      <td>-0.056917</td>\n",
       "      <td>1.024622</td>\n",
       "      <td>-1.224101</td>\n",
       "      <td>1.248892</td>\n",
       "      <td>-0.098382</td>\n",
       "    </tr>\n",
       "    <tr>\n",
       "      <th>2</th>\n",
       "      <td>-1.426990</td>\n",
       "      <td>0.035608</td>\n",
       "      <td>-0.582501</td>\n",
       "      <td>-0.537456</td>\n",
       "      <td>-0.404885</td>\n",
       "      <td>0.495818</td>\n",
       "      <td>-0.110946</td>\n",
       "      <td>0.20159</td>\n",
       "      <td>-0.166238</td>\n",
       "      <td>-0.127286</td>\n",
       "      <td>-0.985275</td>\n",
       "      <td>-0.020095</td>\n",
       "      <td>-0.056917</td>\n",
       "      <td>1.024622</td>\n",
       "      <td>-1.224101</td>\n",
       "      <td>1.248892</td>\n",
       "      <td>-0.098382</td>\n",
       "    </tr>\n",
       "    <tr>\n",
       "      <th>3</th>\n",
       "      <td>-0.801317</td>\n",
       "      <td>-0.409143</td>\n",
       "      <td>0.329620</td>\n",
       "      <td>-0.921213</td>\n",
       "      <td>-0.693085</td>\n",
       "      <td>0.495818</td>\n",
       "      <td>-0.110946</td>\n",
       "      <td>0.20159</td>\n",
       "      <td>-0.166238</td>\n",
       "      <td>-0.127286</td>\n",
       "      <td>-0.985275</td>\n",
       "      <td>-0.020095</td>\n",
       "      <td>-0.056917</td>\n",
       "      <td>1.024622</td>\n",
       "      <td>-1.224101</td>\n",
       "      <td>1.248892</td>\n",
       "      <td>-0.098382</td>\n",
       "    </tr>\n",
       "    <tr>\n",
       "      <th>4</th>\n",
       "      <td>0.137194</td>\n",
       "      <td>-0.544502</td>\n",
       "      <td>0.760085</td>\n",
       "      <td>0.042999</td>\n",
       "      <td>0.010435</td>\n",
       "      <td>0.495818</td>\n",
       "      <td>-0.110946</td>\n",
       "      <td>0.20159</td>\n",
       "      <td>-0.166238</td>\n",
       "      <td>-0.127286</td>\n",
       "      <td>1.014945</td>\n",
       "      <td>-0.020095</td>\n",
       "      <td>-0.056917</td>\n",
       "      <td>-0.975970</td>\n",
       "      <td>0.816926</td>\n",
       "      <td>-0.800710</td>\n",
       "      <td>-0.098382</td>\n",
       "    </tr>\n",
       "  </tbody>\n",
       "</table>\n",
       "</div>"
      ],
      "text/plain": [
       "       year  km_driven   mileage    engine  max_power  transmission_type  \\\n",
       "0 -0.801317   1.195828  0.045745 -1.310754  -1.157780           0.495818   \n",
       "1  0.450030  -0.737872 -0.140402 -0.537456  -0.360203           0.495818   \n",
       "2 -1.426990   0.035608 -0.582501 -0.537456  -0.404885           0.495818   \n",
       "3 -0.801317  -0.409143  0.329620 -0.921213  -0.693085           0.495818   \n",
       "4  0.137194  -0.544502  0.760085  0.042999   0.010435           0.495818   \n",
       "\n",
       "   seats_coupe  seats_family  seats_large  fuel_cng  fuel_diesel  \\\n",
       "0    -0.110946       0.20159    -0.166238 -0.127286    -0.985275   \n",
       "1    -0.110946       0.20159    -0.166238 -0.127286    -0.985275   \n",
       "2    -0.110946       0.20159    -0.166238 -0.127286    -0.985275   \n",
       "3    -0.110946       0.20159    -0.166238 -0.127286    -0.985275   \n",
       "4    -0.110946       0.20159    -0.166238 -0.127286     1.014945   \n",
       "\n",
       "   fuel_electric  fuel_lpg  fuel_petrol  seller_dealer  seller_individual  \\\n",
       "0      -0.020095 -0.056917     1.024622      -1.224101           1.248892   \n",
       "1      -0.020095 -0.056917     1.024622      -1.224101           1.248892   \n",
       "2      -0.020095 -0.056917     1.024622      -1.224101           1.248892   \n",
       "3      -0.020095 -0.056917     1.024622      -1.224101           1.248892   \n",
       "4      -0.020095 -0.056917    -0.975970       0.816926          -0.800710   \n",
       "\n",
       "   seller_trustmark dealer  \n",
       "0                -0.098382  \n",
       "1                -0.098382  \n",
       "2                -0.098382  \n",
       "3                -0.098382  \n",
       "4                -0.098382  "
      ]
     },
     "execution_count": 68,
     "metadata": {},
     "output_type": "execute_result"
    }
   ],
   "source": [
    "X.head()"
   ]
  },
  {
   "cell_type": "code",
   "execution_count": 69,
   "id": "19191172-db1d-40df-bede-2f7f48d42d84",
   "metadata": {},
   "outputs": [
    {
     "data": {
      "text/plain": [
       "LinearRegression()"
      ]
     },
     "execution_count": 69,
     "metadata": {},
     "output_type": "execute_result"
    }
   ],
   "source": [
    "# Train the model \n",
    "model.fit(X,Y)"
   ]
  },
  {
   "cell_type": "code",
   "execution_count": 70,
   "id": "a3b8f708",
   "metadata": {},
   "outputs": [
    {
     "name": "stdout",
     "output_type": "stream",
     "text": [
      "7.38842288799193\n",
      "[ 1.88489776 -0.47362113  0.32576595  1.14813293  5.0739298  -0.96600933\n",
      "  0.82443059 -0.28221431 -0.22059749  0.06933032  0.08060625 -0.05072673\n",
      "  0.20467277 -0.11918639  0.03334649 -0.01608393 -0.08713903]\n"
     ]
    }
   ],
   "source": [
    "print(model.intercept_)\n",
    "print(model.coef_)"
   ]
  },
  {
   "cell_type": "code",
   "execution_count": 75,
   "id": "aea6060a-997f-49c8-bdba-2f37bf965807",
   "metadata": {},
   "outputs": [
    {
     "name": "stdout",
     "output_type": "stream",
     "text": [
      "Mutiple R Squared : 0.6138259085441247\n"
     ]
    }
   ],
   "source": [
    "# Mutiple-R-Squared value \n",
    "print(\"Mutiple R Squared :\", model.score(X,Y))"
   ]
  },
  {
   "cell_type": "markdown",
   "id": "9344daeb-8897-480b-af50-633a5f58f04d",
   "metadata": {},
   "source": [
    "### Adjusted R-Squared value \n",
    "- The adjusted R-squared is a modified version of R-squared that adjusts for the number of predictors in a regression model. It is calculated as:\n",
    "\n",
    "Adjusted R2 = 1 – [(1-R2)*(n-1)/(n-k-1)]\n",
    "\n",
    "where:\n",
    "\n",
    "- R2: The R2 of the model\n",
    "- n: The number of observations\n",
    "- k: The number of predictor variables"
   ]
  },
  {
   "cell_type": "code",
   "execution_count": 77,
   "id": "2f2b136e-b485-4986-a01d-f86fa063544f",
   "metadata": {},
   "outputs": [
    {
     "name": "stdout",
     "output_type": "stream",
     "text": [
      "Adjusted R-squared: 0.6134943784181399\n"
     ]
    }
   ],
   "source": [
    "print(\"Adjusted R-squared:\", 1 - (1-model.score(X, Y))*(len(Y)-1)/(len(Y)-X.shape[1]-1))"
   ]
  },
  {
   "cell_type": "markdown",
   "id": "fb7ac447",
   "metadata": {},
   "source": [
    "#### Statmodels Linear Regression "
   ]
  },
  {
   "cell_type": "code",
   "execution_count": 72,
   "id": "4d265244-2e6a-4053-89b5-cb8b8785b4c8",
   "metadata": {},
   "outputs": [],
   "source": [
    "# Statmodels implementation of Linear regression \n",
    "import statsmodels.api as sm\n",
    "X_sm = sm.add_constant(X)  #Statmodels default is without intercept, to add intercept we need to add constant \n",
    "\n",
    "sm_model = sm.OLS(Y, X_sm).fit()\n"
   ]
  },
  {
   "cell_type": "code",
   "execution_count": 73,
   "id": "97ddd789-38ec-468c-9dd8-42b5d48b5d3a",
   "metadata": {},
   "outputs": [
    {
     "name": "stdout",
     "output_type": "stream",
     "text": [
      "                            OLS Regression Results                            \n",
      "==============================================================================\n",
      "Dep. Variable:          selling_price   R-squared:                       0.614\n",
      "Model:                            OLS   Adj. R-squared:                  0.614\n",
      "Method:                 Least Squares   F-statistic:                     2249.\n",
      "Date:                Wed, 02 Feb 2022   Prob (F-statistic):               0.00\n",
      "Time:                        13:00:54   Log-Likelihood:                -62371.\n",
      "No. Observations:               19820   AIC:                         1.248e+05\n",
      "Df Residuals:                   19805   BIC:                         1.249e+05\n",
      "Df Model:                          14                                         \n",
      "Covariance Type:            nonrobust                                         \n",
      "===========================================================================================\n",
      "                              coef    std err          t      P>|t|      [0.025      0.975]\n",
      "-------------------------------------------------------------------------------------------\n",
      "const                       7.3884      0.040    184.720      0.000       7.310       7.467\n",
      "year                        1.8849      0.046     41.373      0.000       1.796       1.974\n",
      "km_driven                  -0.4736      0.044    -10.682      0.000      -0.561      -0.387\n",
      "mileage                     0.3258      0.068      4.772      0.000       0.192       0.460\n",
      "engine                      1.1481      0.095     12.125      0.000       0.963       1.334\n",
      "max_power                   5.0739      0.078     65.084      0.000       4.921       5.227\n",
      "transmission_type          -0.9660      0.049    -19.736      0.000      -1.062      -0.870\n",
      "seats_coupe                 0.8244      0.036     22.826      0.000       0.754       0.895\n",
      "seats_family               -0.2822      0.021    -13.349      0.000      -0.324      -0.241\n",
      "seats_large                -0.2206      0.030     -7.341      0.000      -0.280      -0.162\n",
      "fuel_cng                    0.0693      0.040      1.745      0.081      -0.009       0.147\n",
      "fuel_diesel                 0.0806      0.029      2.757      0.006       0.023       0.138\n",
      "fuel_electric              -0.0507      0.043     -1.182      0.237      -0.135       0.033\n",
      "fuel_lpg                    0.2047      0.040      5.108      0.000       0.126       0.283\n",
      "fuel_petrol                -0.1192      0.030     -3.996      0.000      -0.178      -0.061\n",
      "seller_dealer               0.0333      0.021      1.580      0.114      -0.008       0.075\n",
      "seller_individual          -0.0161      0.021     -0.753      0.451      -0.058       0.026\n",
      "seller_trustmark dealer    -0.0871      0.039     -2.206      0.027      -0.165      -0.010\n",
      "==============================================================================\n",
      "Omnibus:                    36798.081   Durbin-Watson:                   2.015\n",
      "Prob(Omnibus):                  0.000   Jarque-Bera (JB):        271533084.294\n",
      "Skew:                          13.327   Prob(JB):                         0.00\n",
      "Kurtosis:                     575.790   Cond. No.                     3.82e+15\n",
      "==============================================================================\n",
      "\n",
      "Notes:\n",
      "[1] Standard Errors assume that the covariance matrix of the errors is correctly specified.\n",
      "[2] The smallest eigenvalue is 4.27e-27. This might indicate that there are\n",
      "strong multicollinearity problems or that the design matrix is singular.\n"
     ]
    }
   ],
   "source": [
    "print(sm_model.summary())"
   ]
  },
  {
   "cell_type": "markdown",
   "id": "cbaac761-0866-40b1-a7c9-67b3184a10f2",
   "metadata": {},
   "source": [
    "### Multicollinearity \n",
    "- When one or more input variables exhibhit strong correlation \n",
    "- One variable is enough to be part of the model. \n"
   ]
  },
  {
   "cell_type": "code",
   "execution_count": 78,
   "id": "97cd7b1d-9e51-4525-897b-7ad498546cc1",
   "metadata": {},
   "outputs": [],
   "source": [
    "# VIF \n",
    "from statsmodels.stats.outliers_influence import variance_inflation_factor"
   ]
  },
  {
   "cell_type": "code",
   "execution_count": 79,
   "id": "ff6c4387-6d36-4d9a-9c97-ca6864e9eaa6",
   "metadata": {},
   "outputs": [
    {
     "name": "stderr",
     "output_type": "stream",
     "text": [
      "C:\\Users\\sci\\anaconda3\\lib\\site-packages\\statsmodels\\stats\\outliers_influence.py:193: RuntimeWarning: divide by zero encountered in double_scalars\n",
      "  vif = 1. / (1. - r_squared_i)\n"
     ]
    },
    {
     "data": {
      "text/html": [
       "<div>\n",
       "<style scoped>\n",
       "    .dataframe tbody tr th:only-of-type {\n",
       "        vertical-align: middle;\n",
       "    }\n",
       "\n",
       "    .dataframe tbody tr th {\n",
       "        vertical-align: top;\n",
       "    }\n",
       "\n",
       "    .dataframe thead th {\n",
       "        text-align: right;\n",
       "    }\n",
       "</style>\n",
       "<table border=\"1\" class=\"dataframe\">\n",
       "  <thead>\n",
       "    <tr style=\"text-align: right;\">\n",
       "      <th></th>\n",
       "      <th>Features</th>\n",
       "      <th>VIF</th>\n",
       "    </tr>\n",
       "  </thead>\n",
       "  <tbody>\n",
       "    <tr>\n",
       "      <th>8</th>\n",
       "      <td>seats_large</td>\n",
       "      <td>inf</td>\n",
       "    </tr>\n",
       "    <tr>\n",
       "      <th>9</th>\n",
       "      <td>fuel_cng</td>\n",
       "      <td>inf</td>\n",
       "    </tr>\n",
       "    <tr>\n",
       "      <th>15</th>\n",
       "      <td>seller_individual</td>\n",
       "      <td>inf</td>\n",
       "    </tr>\n",
       "    <tr>\n",
       "      <th>14</th>\n",
       "      <td>seller_dealer</td>\n",
       "      <td>inf</td>\n",
       "    </tr>\n",
       "    <tr>\n",
       "      <th>13</th>\n",
       "      <td>fuel_petrol</td>\n",
       "      <td>inf</td>\n",
       "    </tr>\n",
       "    <tr>\n",
       "      <th>12</th>\n",
       "      <td>fuel_lpg</td>\n",
       "      <td>inf</td>\n",
       "    </tr>\n",
       "    <tr>\n",
       "      <th>11</th>\n",
       "      <td>fuel_electric</td>\n",
       "      <td>inf</td>\n",
       "    </tr>\n",
       "    <tr>\n",
       "      <th>10</th>\n",
       "      <td>fuel_diesel</td>\n",
       "      <td>inf</td>\n",
       "    </tr>\n",
       "    <tr>\n",
       "      <th>16</th>\n",
       "      <td>seller_trustmark dealer</td>\n",
       "      <td>inf</td>\n",
       "    </tr>\n",
       "    <tr>\n",
       "      <th>6</th>\n",
       "      <td>seats_coupe</td>\n",
       "      <td>inf</td>\n",
       "    </tr>\n",
       "    <tr>\n",
       "      <th>7</th>\n",
       "      <td>seats_family</td>\n",
       "      <td>19806433.12</td>\n",
       "    </tr>\n",
       "    <tr>\n",
       "      <th>3</th>\n",
       "      <td>engine</td>\n",
       "      <td>5.60</td>\n",
       "    </tr>\n",
       "    <tr>\n",
       "      <th>4</th>\n",
       "      <td>max_power</td>\n",
       "      <td>3.80</td>\n",
       "    </tr>\n",
       "    <tr>\n",
       "      <th>2</th>\n",
       "      <td>mileage</td>\n",
       "      <td>2.91</td>\n",
       "    </tr>\n",
       "    <tr>\n",
       "      <th>5</th>\n",
       "      <td>transmission_type</td>\n",
       "      <td>1.50</td>\n",
       "    </tr>\n",
       "    <tr>\n",
       "      <th>0</th>\n",
       "      <td>year</td>\n",
       "      <td>1.30</td>\n",
       "    </tr>\n",
       "    <tr>\n",
       "      <th>1</th>\n",
       "      <td>km_driven</td>\n",
       "      <td>1.23</td>\n",
       "    </tr>\n",
       "  </tbody>\n",
       "</table>\n",
       "</div>"
      ],
      "text/plain": [
       "                   Features          VIF\n",
       "8               seats_large          inf\n",
       "9                  fuel_cng          inf\n",
       "15        seller_individual          inf\n",
       "14            seller_dealer          inf\n",
       "13              fuel_petrol          inf\n",
       "12                 fuel_lpg          inf\n",
       "11            fuel_electric          inf\n",
       "10              fuel_diesel          inf\n",
       "16  seller_trustmark dealer          inf\n",
       "6               seats_coupe          inf\n",
       "7              seats_family  19806433.12\n",
       "3                    engine         5.60\n",
       "4                 max_power         3.80\n",
       "2                   mileage         2.91\n",
       "5         transmission_type         1.50\n",
       "0                      year         1.30\n",
       "1                 km_driven         1.23"
      ]
     },
     "execution_count": 79,
     "metadata": {},
     "output_type": "execute_result"
    }
   ],
   "source": [
    "vif = pd.DataFrame()\n",
    "X_t = X\n",
    "vif['Features'] = X_t.columns\n",
    "vif['VIF'] = [variance_inflation_factor(X_t.values, i) for i in range(X_t.shape[1])]\n",
    "vif['VIF'] = round(vif['VIF'], 2)\n",
    "vif = vif.sort_values(by = \"VIF\", ascending = False)\n",
    "vif"
   ]
  },
  {
   "cell_type": "markdown",
   "id": "6397be4e-daa6-4081-9d46-fedc5a2ed029",
   "metadata": {},
   "source": [
    "### Note : Vif values tends to be infinity when there is a perfect correlation between the variables \n",
    "- Any variable with a VIF of 10 or above is considered strongly correlated with other variables. "
   ]
  },
  {
   "cell_type": "code",
   "execution_count": 80,
   "id": "d0d3b9c4-bfa0-4757-9c51-59bb83e49e61",
   "metadata": {},
   "outputs": [],
   "source": [
    "cols2 = [\"max_power\",\"transmission_type\",\"year\",\"km_driven\",\"fuel_electric\",\"seats_coupe\" ]"
   ]
  },
  {
   "cell_type": "code",
   "execution_count": 81,
   "id": "072acec6-aea2-4698-ad8e-16a7ed258d49",
   "metadata": {},
   "outputs": [],
   "source": [
    "# build model without all those correlated columns\n",
    "X2 = X[cols2]\n",
    "\n",
    "X2_sm = sm.add_constant(X2)  #Statmodels default is without intercept, to add intercept we need to add constant \n",
    "\n",
    "sm_model = sm.OLS(Y, X2_sm).fit()"
   ]
  },
  {
   "cell_type": "code",
   "execution_count": 82,
   "id": "3cf7fcd8-c163-4c98-9cc4-11d0cf2a3e8a",
   "metadata": {},
   "outputs": [
    {
     "name": "stdout",
     "output_type": "stream",
     "text": [
      "                            OLS Regression Results                            \n",
      "==============================================================================\n",
      "Dep. Variable:          selling_price   R-squared:                       0.607\n",
      "Model:                            OLS   Adj. R-squared:                  0.606\n",
      "Method:                 Least Squares   F-statistic:                     5090.\n",
      "Date:                Wed, 02 Feb 2022   Prob (F-statistic):               0.00\n",
      "Time:                        13:20:20   Log-Likelihood:                -62556.\n",
      "No. Observations:               19820   AIC:                         1.251e+05\n",
      "Df Residuals:                   19813   BIC:                         1.252e+05\n",
      "Df Model:                           6                                         \n",
      "Covariance Type:            nonrobust                                         \n",
      "=====================================================================================\n",
      "                        coef    std err          t      P>|t|      [0.025      0.975]\n",
      "-------------------------------------------------------------------------------------\n",
      "const                 7.3884      0.040    183.034      0.000       7.309       7.468\n",
      "max_power             5.9311      0.048    122.301      0.000       5.836       6.026\n",
      "transmission_type    -0.8600      0.049    -17.729      0.000      -0.955      -0.765\n",
      "year                  1.9042      0.043     44.432      0.000       1.820       1.988\n",
      "km_driven            -0.2646      0.043     -6.194      0.000      -0.348      -0.181\n",
      "fuel_electric         0.0303      0.040      0.751      0.453      -0.049       0.110\n",
      "seats_coupe           0.9502      0.041     23.216      0.000       0.870       1.030\n",
      "==============================================================================\n",
      "Omnibus:                    35995.866   Durbin-Watson:                   2.014\n",
      "Prob(Omnibus):                  0.000   Jarque-Bera (JB):        230783059.888\n",
      "Skew:                          12.713   Prob(JB):                         0.00\n",
      "Kurtosis:                     531.023   Cond. No.                         1.92\n",
      "==============================================================================\n",
      "\n",
      "Notes:\n",
      "[1] Standard Errors assume that the covariance matrix of the errors is correctly specified.\n"
     ]
    }
   ],
   "source": [
    "print(sm_model.summary())"
   ]
  },
  {
   "cell_type": "code",
   "execution_count": 88,
   "id": "7d3b042c-449c-4e95-be0d-f26f3f86275a",
   "metadata": {},
   "outputs": [],
   "source": [
    "# Lets drop one more variable -- fuel_electric\n",
    "cols2 = [\"engine\",\"max_power\",\"transmission_type\",\"year\",\"km_driven\",\"seats_coupe\" ]"
   ]
  },
  {
   "cell_type": "code",
   "execution_count": 89,
   "id": "666e9ebe-6f79-4121-a2f7-ad79b7b38acd",
   "metadata": {},
   "outputs": [],
   "source": [
    "# build model without all those correlated columns\n",
    "X2 = X[cols2]\n",
    "\n",
    "X2_sm = sm.add_constant(X2)  #Statmodels default is without intercept, to add intercept we need to add constant \n",
    "\n",
    "sm_model = sm.OLS(Y, X2_sm).fit()"
   ]
  },
  {
   "cell_type": "code",
   "execution_count": 90,
   "id": "29f308dc-c36d-46b7-9d26-2f6ea37dc2bc",
   "metadata": {},
   "outputs": [
    {
     "name": "stdout",
     "output_type": "stream",
     "text": [
      "                            OLS Regression Results                            \n",
      "==============================================================================\n",
      "Dep. Variable:          selling_price   R-squared:                       0.611\n",
      "Model:                            OLS   Adj. R-squared:                  0.611\n",
      "Method:                 Least Squares   F-statistic:                     5196.\n",
      "Date:                Wed, 02 Feb 2022   Prob (F-statistic):               0.00\n",
      "Time:                        13:24:28   Log-Likelihood:                -62432.\n",
      "No. Observations:               19820   AIC:                         1.249e+05\n",
      "Df Residuals:                   19813   BIC:                         1.249e+05\n",
      "Df Model:                           6                                         \n",
      "Covariance Type:            nonrobust                                         \n",
      "=====================================================================================\n",
      "                        coef    std err          t      P>|t|      [0.025      0.975]\n",
      "-------------------------------------------------------------------------------------\n",
      "const                 7.3884      0.040    184.191      0.000       7.310       7.467\n",
      "engine                1.0943      0.069     15.868      0.000       0.959       1.229\n",
      "max_power             5.0168      0.075     66.851      0.000       4.870       5.164\n",
      "transmission_type    -0.9303      0.048    -19.246      0.000      -1.025      -0.836\n",
      "year                  1.9815      0.043     46.227      0.000       1.897       2.066\n",
      "km_driven            -0.4119      0.043     -9.477      0.000      -0.497      -0.327\n",
      "seats_coupe           0.9936      0.041     24.382      0.000       0.914       1.074\n",
      "==============================================================================\n",
      "Omnibus:                    36607.794   Durbin-Watson:                   2.012\n",
      "Prob(Omnibus):                  0.000   Jarque-Bera (JB):        262332940.900\n",
      "Skew:                          13.178   Prob(JB):                         0.00\n",
      "Kurtosis:                     565.995   Cond. No.                         3.59\n",
      "==============================================================================\n",
      "\n",
      "Notes:\n",
      "[1] Standard Errors assume that the covariance matrix of the errors is correctly specified.\n"
     ]
    }
   ],
   "source": [
    "print(sm_model.summary())"
   ]
  },
  {
   "cell_type": "code",
   "execution_count": 91,
   "id": "441c49e1-2941-4ec6-a61a-6efb7d789ee3",
   "metadata": {},
   "outputs": [
    {
     "data": {
      "text/html": [
       "<div>\n",
       "<style scoped>\n",
       "    .dataframe tbody tr th:only-of-type {\n",
       "        vertical-align: middle;\n",
       "    }\n",
       "\n",
       "    .dataframe tbody tr th {\n",
       "        vertical-align: top;\n",
       "    }\n",
       "\n",
       "    .dataframe thead th {\n",
       "        text-align: right;\n",
       "    }\n",
       "</style>\n",
       "<table border=\"1\" class=\"dataframe\">\n",
       "  <thead>\n",
       "    <tr style=\"text-align: right;\">\n",
       "      <th></th>\n",
       "      <th>Features</th>\n",
       "      <th>VIF</th>\n",
       "    </tr>\n",
       "  </thead>\n",
       "  <tbody>\n",
       "    <tr>\n",
       "      <th>1</th>\n",
       "      <td>max_power</td>\n",
       "      <td>3.50</td>\n",
       "    </tr>\n",
       "    <tr>\n",
       "      <th>0</th>\n",
       "      <td>engine</td>\n",
       "      <td>2.96</td>\n",
       "    </tr>\n",
       "    <tr>\n",
       "      <th>2</th>\n",
       "      <td>transmission_type</td>\n",
       "      <td>1.45</td>\n",
       "    </tr>\n",
       "    <tr>\n",
       "      <th>4</th>\n",
       "      <td>km_driven</td>\n",
       "      <td>1.17</td>\n",
       "    </tr>\n",
       "    <tr>\n",
       "      <th>3</th>\n",
       "      <td>year</td>\n",
       "      <td>1.14</td>\n",
       "    </tr>\n",
       "    <tr>\n",
       "      <th>5</th>\n",
       "      <td>seats_coupe</td>\n",
       "      <td>1.03</td>\n",
       "    </tr>\n",
       "  </tbody>\n",
       "</table>\n",
       "</div>"
      ],
      "text/plain": [
       "            Features   VIF\n",
       "1          max_power  3.50\n",
       "0             engine  2.96\n",
       "2  transmission_type  1.45\n",
       "4          km_driven  1.17\n",
       "3               year  1.14\n",
       "5        seats_coupe  1.03"
      ]
     },
     "execution_count": 91,
     "metadata": {},
     "output_type": "execute_result"
    }
   ],
   "source": [
    "vif = pd.DataFrame()\n",
    "X_t = X2\n",
    "vif['Features'] = X_t.columns\n",
    "vif['VIF'] = [variance_inflation_factor(X_t.values, i) for i in range(X_t.shape[1])]\n",
    "vif['VIF'] = round(vif['VIF'], 2)\n",
    "vif = vif.sort_values(by = \"VIF\", ascending = False)\n",
    "vif"
   ]
  },
  {
   "cell_type": "markdown",
   "id": "9efd9ef2-dbca-4566-ab38-7f4862b75ee8",
   "metadata": {},
   "source": [
    "### Model Testing\n",
    "-- Model testing should always be performed on unseen dataset as the models will perfrom better on the trained data "
   ]
  },
  {
   "cell_type": "markdown",
   "id": "4b831713-72ed-4059-a0fc-c44d6b046148",
   "metadata": {},
   "source": [
    "### We have used all the data for training, is it good?\n",
    "- No we must always evaluate model performance on unseen data. "
   ]
  },
  {
   "cell_type": "code",
   "execution_count": null,
   "id": "9d4488be-c570-426e-979b-b83614a473c6",
   "metadata": {},
   "outputs": [],
   "source": [
    "### Train and test split \n",
    "from sklearn.model_selection import train_test_split\n"
   ]
  },
  {
   "cell_type": "code",
   "execution_count": 108,
   "id": "f804358b-b6ce-44e6-a0ea-3258199b28f2",
   "metadata": {},
   "outputs": [],
   "source": [
    "## X2 is going to split into tran and test \n",
    "\n",
    "x_train,x_test,y_train, y_test = train_test_split(X2,Y, test_size=0.1, random_state = 1)"
   ]
  },
  {
   "cell_type": "code",
   "execution_count": 109,
   "id": "41e97bc8-3341-4a77-a336-a72811fc0f8e",
   "metadata": {},
   "outputs": [
    {
     "name": "stdout",
     "output_type": "stream",
     "text": [
      "Traning set shape X: (17838, 6)\n",
      "Traning set shape Y: (17838,)\n",
      "Test set shape X: (1982, 6)\n",
      "Test set shape Y: (1982,)\n"
     ]
    }
   ],
   "source": [
    "print(\"Traning set shape X:\", x_train.shape)\n",
    "print(\"Traning set shape Y:\", y_train.shape)\n",
    "print(\"Test set shape X:\", x_test.shape)\n",
    "print(\"Test set shape Y:\", y_test.shape)"
   ]
  },
  {
   "cell_type": "code",
   "execution_count": 110,
   "id": "867722a6-dc69-4087-9b8e-d388780c4d92",
   "metadata": {},
   "outputs": [],
   "source": [
    "final_model = LinearRegression()"
   ]
  },
  {
   "cell_type": "code",
   "execution_count": 111,
   "id": "0b28c181-bf00-4a0a-a7bf-ece7464f3478",
   "metadata": {},
   "outputs": [
    {
     "data": {
      "text/plain": [
       "LinearRegression()"
      ]
     },
     "execution_count": 111,
     "metadata": {},
     "output_type": "execute_result"
    }
   ],
   "source": [
    "final_model.fit(x_train,y_train)"
   ]
  },
  {
   "cell_type": "code",
   "execution_count": 112,
   "id": "dbb585e5-78c5-4aba-9f1b-6ba903b9e0f6",
   "metadata": {},
   "outputs": [
    {
     "data": {
      "text/plain": [
       "7.395513670805413"
      ]
     },
     "execution_count": 112,
     "metadata": {},
     "output_type": "execute_result"
    }
   ],
   "source": [
    "final_model.intercept_"
   ]
  },
  {
   "cell_type": "code",
   "execution_count": 113,
   "id": "84a28dee-6eac-4317-af5a-855d16778137",
   "metadata": {},
   "outputs": [
    {
     "data": {
      "text/plain": [
       "array([ 1.10446698,  5.05935657, -0.89690768,  1.98218355, -0.39869078,\n",
       "        1.01856153])"
      ]
     },
     "execution_count": 113,
     "metadata": {},
     "output_type": "execute_result"
    }
   ],
   "source": [
    "final_model.coef_"
   ]
  },
  {
   "cell_type": "code",
   "execution_count": 116,
   "id": "3b962350-969d-4b7b-939b-5030328fc118",
   "metadata": {},
   "outputs": [
    {
     "data": {
      "text/plain": [
       "0.6100390860403653"
      ]
     },
     "execution_count": 116,
     "metadata": {},
     "output_type": "execute_result"
    }
   ],
   "source": [
    "final_model.score(x_train,y_train)"
   ]
  },
  {
   "cell_type": "code",
   "execution_count": 115,
   "id": "7d3a2af1-ceaf-4154-b65f-a07c3542d6e3",
   "metadata": {},
   "outputs": [],
   "source": [
    "from sklearn.metrics import mean_absolute_error, mean_squared_error, mean_absolute_percentage_error"
   ]
  },
  {
   "cell_type": "code",
   "execution_count": 117,
   "id": "dbdf2379-a7a4-41a1-98c2-8fd2b28d52de",
   "metadata": {},
   "outputs": [],
   "source": [
    "## predicting the values on test dataset \n",
    "y_pred = final_model.predict(x_test)"
   ]
  },
  {
   "cell_type": "code",
   "execution_count": 118,
   "id": "609a0112-b969-4b8f-959f-9d40c6e0c5a7",
   "metadata": {},
   "outputs": [],
   "source": [
    "# Metrics for model performance evaluation "
   ]
  },
  {
   "cell_type": "code",
   "execution_count": 121,
   "id": "f858b9e3-8e92-4744-a013-7edac0a373c7",
   "metadata": {},
   "outputs": [
    {
     "name": "stdout",
     "output_type": "stream",
     "text": [
      "Mean absolute error: 2.8157245895216767\n",
      "Mean squared error: 27.036450750588255\n",
      "Root Mean squared error: 5.1996587148185265\n",
      "Mean absolute percentage error: 0.5821886174802302\n"
     ]
    }
   ],
   "source": [
    "print(\"Mean absolute error:\", mean_absolute_error(y_test, y_pred) )\n",
    "print(\"Mean squared error:\",mean_squared_error(y_test, y_pred) )\n",
    "print(\"Root Mean squared error:\",np.sqrt(mean_squared_error(y_test, y_pred)) )\n",
    "print(\"Mean absolute percentage error:\", mean_absolute_percentage_error(y_test, y_pred))"
   ]
  },
  {
   "cell_type": "markdown",
   "id": "12aa8e90-3f96-477e-9a0f-94761ee056a4",
   "metadata": {},
   "source": [
    "### Residual analysis \n",
    "- Residuals should follow normal distribution \n",
    "- No autocorrelation \n",
    "- no heteroscedasticity "
   ]
  },
  {
   "cell_type": "markdown",
   "id": "51b7b41b-7651-447a-a1a0-a6ab8484c430",
   "metadata": {},
   "source": [
    "Heteroscedasticity - Constant varinace across errors( variance of erros remain same across the range of predicted values)\n",
    "- This can be verified using the plot of residuals(errors) Vs. Predicted values \n",
    "- Another approach is to perform a whites test(Not required) "
   ]
  },
  {
   "cell_type": "code",
   "execution_count": 123,
   "id": "9226273a-83df-4877-bf44-1fe8aa552db2",
   "metadata": {},
   "outputs": [],
   "source": [
    "preds = final_model.predict(x_train)\n",
    "errors = preds - y_train "
   ]
  },
  {
   "cell_type": "code",
   "execution_count": 124,
   "id": "7e8668dd-5b1a-43af-a0bd-63bbb1455b07",
   "metadata": {},
   "outputs": [],
   "source": [
    "import seaborn as sns"
   ]
  },
  {
   "cell_type": "code",
   "execution_count": 146,
   "id": "f7c099db-4573-4908-9b02-f24a23444fcb",
   "metadata": {},
   "outputs": [
    {
     "data": {
      "text/plain": [
       "<AxesSubplot:xlabel='selling_price', ylabel='Count'>"
      ]
     },
     "execution_count": 146,
     "metadata": {},
     "output_type": "execute_result"
    },
    {
     "data": {
      "image/png": "[encoded data removed]",
      "text/plain": [
       "<Figure size 432x288 with 1 Axes>"
      ]
     },
     "metadata": {
      "needs_background": "light"
     },
     "output_type": "display_data"
    }
   ],
   "source": [
    "sns.histplot(errors)"
   ]
  },
  {
   "cell_type": "code",
   "execution_count": 127,
   "id": "08a72801-cb1c-4f41-abff-b72d340a13f5",
   "metadata": {},
   "outputs": [
    {
     "name": "stderr",
     "output_type": "stream",
     "text": [
      "C:\\Users\\sci\\anaconda3\\lib\\site-packages\\seaborn\\distributions.py:2557: FutureWarning: `distplot` is a deprecated function and will be removed in a future version. Please adapt your code to use either `displot` (a figure-level function with similar flexibility) or `histplot` (an axes-level function for histograms).\n",
      "  warnings.warn(msg, FutureWarning)\n"
     ]
    },
    {
     "data": {
      "text/plain": [
       "<AxesSubplot:xlabel='selling_price', ylabel='Density'>"
      ]
     },
     "execution_count": 127,
     "metadata": {},
     "output_type": "execute_result"
    },
    {
     "data": {
      "image/png": "[encoded data removed]",
      "text/plain": [
       "<Figure size 432x288 with 1 Axes>"
      ]
     },
     "metadata": {
      "needs_background": "light"
     },
     "output_type": "display_data"
    }
   ],
   "source": [
    "sns.distplot(y_train)"
   ]
  },
  {
   "cell_type": "code",
   "execution_count": 128,
   "id": "b37143c2-c2fb-4ec7-bb41-f8e4817c3f79",
   "metadata": {},
   "outputs": [
    {
     "name": "stderr",
     "output_type": "stream",
     "text": [
      "C:\\Users\\sci\\anaconda3\\lib\\site-packages\\seaborn\\_decorators.py:36: FutureWarning: Pass the following variables as keyword args: x, y. From version 0.12, the only valid positional argument will be `data`, and passing other arguments without an explicit keyword will result in an error or misinterpretation.\n",
      "  warnings.warn(\n"
     ]
    },
    {
     "data": {
      "text/plain": [
       "<AxesSubplot:ylabel='selling_price'>"
      ]
     },
     "execution_count": 128,
     "metadata": {},
     "output_type": "execute_result"
    },
    {
     "data": {
      "image/png": "[encoded data removed]",
      "text/plain": [
       "<Figure size 432x288 with 1 Axes>"
      ]
     },
     "metadata": {
      "needs_background": "light"
     },
     "output_type": "display_data"
    }
   ],
   "source": [
    "## Plot of residuals vs predicted values \n",
    "\n",
    "sns.scatterplot(preds,errors)"
   ]
  },
  {
   "cell_type": "code",
   "execution_count": 131,
   "id": "fe602d56-9df9-4663-b468-c136278429d4",
   "metadata": {},
   "outputs": [],
   "source": [
    "## lets remove the outliers and rerun the model \n",
    "df3 = df[df[\"selling_price\"] < 50]\n"
   ]
  },
  {
   "cell_type": "code",
   "execution_count": 132,
   "id": "77165b0a-a441-44b4-b818-12ab1e432f64",
   "metadata": {},
   "outputs": [
    {
     "data": {
      "text/plain": [
       "(19660, 18)"
      ]
     },
     "execution_count": 132,
     "metadata": {},
     "output_type": "execute_result"
    }
   ],
   "source": [
    "df3.shape"
   ]
  },
  {
   "cell_type": "code",
   "execution_count": 133,
   "id": "e23d8fa9-38cf-4481-b327-196cf3f273a3",
   "metadata": {},
   "outputs": [],
   "source": [
    "X = df3[df3.columns.drop('selling_price')]\n",
    "Y = df3[\"selling_price\"]"
   ]
  },
  {
   "cell_type": "code",
   "execution_count": 134,
   "id": "d57e3633-2744-4037-85b7-f6fb59884101",
   "metadata": {},
   "outputs": [
    {
     "name": "stderr",
     "output_type": "stream",
     "text": [
      "<ipython-input-134-53e462b909d4>:3: SettingWithCopyWarning: \n",
      "A value is trying to be set on a copy of a slice from a DataFrame.\n",
      "Try using .loc[row_indexer,col_indexer] = value instead\n",
      "\n",
      "See the caveats in the documentation: https://pandas.pydata.org/pandas-docs/stable/user_guide/indexing.html#returning-a-view-versus-a-copy\n",
      "  X[cols] = sc.fit_transform(X[cols])\n",
      "C:\\Users\\sci\\anaconda3\\lib\\site-packages\\pandas\\core\\indexing.py:1738: SettingWithCopyWarning: \n",
      "A value is trying to be set on a copy of a slice from a DataFrame.\n",
      "Try using .loc[row_indexer,col_indexer] = value instead\n",
      "\n",
      "See the caveats in the documentation: https://pandas.pydata.org/pandas-docs/stable/user_guide/indexing.html#returning-a-view-versus-a-copy\n",
      "  self._setitem_single_column(loc, value[:, i].tolist(), pi)\n"
     ]
    }
   ],
   "source": [
    "sc = StandardScaler()\n",
    "cols = X.columns\n",
    "X[cols] = sc.fit_transform(X[cols])"
   ]
  },
  {
   "cell_type": "code",
   "execution_count": 135,
   "id": "b3bc38b3-2faf-4720-a0f6-87f4254acf2f",
   "metadata": {},
   "outputs": [],
   "source": [
    "X3 = X[cols2]"
   ]
  },
  {
   "cell_type": "code",
   "execution_count": 136,
   "id": "485c7e2f-da49-445b-9538-375ac077f861",
   "metadata": {},
   "outputs": [],
   "source": [
    "x_train,x_test,y_train, y_test = train_test_split(X3,Y, test_size=0.1, random_state = 1)"
   ]
  },
  {
   "cell_type": "code",
   "execution_count": 139,
   "id": "7293d446-02c7-4cd2-b2c2-c183ded704af",
   "metadata": {},
   "outputs": [
    {
     "data": {
      "text/plain": [
       "LinearRegression()"
      ]
     },
     "execution_count": 139,
     "metadata": {},
     "output_type": "execute_result"
    }
   ],
   "source": [
    "final_model.fit(x_train,y_train)"
   ]
  },
  {
   "cell_type": "code",
   "execution_count": 140,
   "id": "619b29aa-13f4-4bfb-b597-8c94047eb6ba",
   "metadata": {},
   "outputs": [
    {
     "data": {
      "text/plain": [
       "0.6710324866371689"
      ]
     },
     "execution_count": 140,
     "metadata": {},
     "output_type": "execute_result"
    }
   ],
   "source": [
    "final_model.score(x_train,y_train)"
   ]
  },
  {
   "cell_type": "code",
   "execution_count": 141,
   "id": "b940ba23-1319-47bd-965d-0e1509e79a09",
   "metadata": {},
   "outputs": [],
   "source": [
    "y_pred = final_model.predict(x_test)"
   ]
  },
  {
   "cell_type": "code",
   "execution_count": 142,
   "id": "35718054-2076-45c5-a2bf-a394ffa103bc",
   "metadata": {},
   "outputs": [
    {
     "name": "stdout",
     "output_type": "stream",
     "text": [
      "Mean absolute error: 2.182956886776027\n",
      "Mean squared error: 13.182613707826933\n",
      "Root Mean squared error: 3.6307869268007082\n",
      "Mean absolute percentage error: 0.46092313646394295\n"
     ]
    }
   ],
   "source": [
    "print(\"Mean absolute error:\", mean_absolute_error(y_test, y_pred) )\n",
    "print(\"Mean squared error:\",mean_squared_error(y_test, y_pred) )\n",
    "print(\"Root Mean squared error:\",np.sqrt(mean_squared_error(y_test, y_pred)) )\n",
    "print(\"Mean absolute percentage error:\", mean_absolute_percentage_error(y_test, y_pred))"
   ]
  },
  {
   "cell_type": "code",
   "execution_count": 143,
   "id": "737240ef-1715-4b25-bc5e-9e9cc8791bd4",
   "metadata": {},
   "outputs": [
    {
     "name": "stderr",
     "output_type": "stream",
     "text": [
      "C:\\Users\\sci\\anaconda3\\lib\\site-packages\\seaborn\\distributions.py:2557: FutureWarning: `distplot` is a deprecated function and will be removed in a future version. Please adapt your code to use either `displot` (a figure-level function with similar flexibility) or `histplot` (an axes-level function for histograms).\n",
      "  warnings.warn(msg, FutureWarning)\n"
     ]
    },
    {
     "data": {
      "text/plain": [
       "<AxesSubplot:xlabel='selling_price', ylabel='Density'>"
      ]
     },
     "execution_count": 143,
     "metadata": {},
     "output_type": "execute_result"
    },
    {
     "data": {
      "image/png": "[encoded data removed]",
      "text/plain": [
       "<Figure size 432x288 with 1 Axes>"
      ]
     },
     "metadata": {
      "needs_background": "light"
     },
     "output_type": "display_data"
    }
   ],
   "source": [
    "sns.distplot(y_train)"
   ]
  },
  {
   "cell_type": "code",
   "execution_count": 144,
   "id": "08b8b0ba-3685-4fbd-af45-d85d0746e0a4",
   "metadata": {},
   "outputs": [],
   "source": [
    "preds = final_model.predict(x_train)\n",
    "errors = preds - y_train "
   ]
  },
  {
   "cell_type": "code",
   "execution_count": 149,
   "id": "0d59bcc1-28e4-442b-97f0-2a979551dd3c",
   "metadata": {},
   "outputs": [
    {
     "data": {
      "text/plain": [
       "Text(0.5, 1.0, 'Histogram of residuals')"
      ]
     },
     "execution_count": 149,
     "metadata": {},
     "output_type": "execute_result"
    },
    {
     "data": {
      "image/png": "[encoded data removed]",
      "text/plain": [
       "<Figure size 432x288 with 1 Axes>"
      ]
     },
     "metadata": {
      "needs_background": "light"
     },
     "output_type": "display_data"
    }
   ],
   "source": [
    "sns.histplot(errors)\n",
    "plt.xlabel(\" Reiduals\")\n",
    "plt.title(\"Histogram of residuals\")"
   ]
  },
  {
   "cell_type": "code",
   "execution_count": 150,
   "id": "f6d306a9-38d2-42e8-93d0-cf5a1eebac51",
   "metadata": {},
   "outputs": [
    {
     "name": "stderr",
     "output_type": "stream",
     "text": [
      "C:\\Users\\sci\\anaconda3\\lib\\site-packages\\seaborn\\_decorators.py:36: FutureWarning: Pass the following variables as keyword args: x, y. From version 0.12, the only valid positional argument will be `data`, and passing other arguments without an explicit keyword will result in an error or misinterpretation.\n",
      "  warnings.warn(\n"
     ]
    },
    {
     "data": {
      "text/plain": [
       "Text(0.5, 1.0, 'Predicted values vs Residuals')"
      ]
     },
     "execution_count": 150,
     "metadata": {},
     "output_type": "execute_result"
    },
    {
     "data": {
      "image/png": "[encoded data removed]",
      "text/plain": [
       "<Figure size 432x288 with 1 Axes>"
      ]
     },
     "metadata": {
      "needs_background": "light"
     },
     "output_type": "display_data"
    }
   ],
   "source": [
    "sns.scatterplot(preds,errors)\n",
    "plt.xlabel(\"predicted Selling price\")\n",
    "plt.ylabel(\"Residuals\")\n",
    "plt.title(\"Predicted values vs Residuals\")"
   ]
  },
  {
   "cell_type": "markdown",
   "id": "aa620f5f-6647-4878-9510-464d4d514556",
   "metadata": {},
   "source": [
    "### Still looks like skewed distibution \n",
    "- As a next  step apply log transformation on y and bring it close to normal distribution \n"
   ]
  },
  {
   "cell_type": "markdown",
   "id": "27756697",
   "metadata": {},
   "source": [
    "### Closed form solution\n",
    "\n",
    "<div>\n",
    "<img src=\"images/nm1.jpg\" width=\"600\"/>\n",
    "</div>\n",
    "\n",
    "<div>\n",
    "<img src=\"images/nm2.jpg\" width=\"600\"/>\n",
    "</div>"
   ]
  }
 ],
 "metadata": {
  "kernelspec": {
   "display_name": "Python 3",
   "language": "python",
   "name": "python3"
  },
  "language_info": {
   "codemirror_mode": {
    "name": "ipython",
    "version": 3
   },
   "file_extension": ".py",
   "mimetype": "text/x-python",
   "name": "python",
   "nbconvert_exporter": "python",
   "pygments_lexer": "ipython3",
   "version": "3.8.8"
  }
 },
 "nbformat": 4,
 "nbformat_minor": 5
}
